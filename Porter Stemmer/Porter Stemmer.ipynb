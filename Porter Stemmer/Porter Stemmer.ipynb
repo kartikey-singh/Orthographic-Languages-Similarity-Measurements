{
 "cells": [
  {
   "cell_type": "code",
   "execution_count": 121,
   "metadata": {},
   "outputs": [],
   "source": [
    "def step1a(word):\n",
    "    suffixes = ['sses', 'ies', 'ss', 's']\n",
    "    nsuffixes = ['ss', 'i', 'ss', '']\n",
    "    for index, suffix in enumerate(suffixes):\n",
    "        if word.endswith(suffix):\n",
    "            return word[:-len(suffix)] + nsuffixes[index]\n",
    "    return word"
   ]
  },
  {
   "cell_type": "code",
   "execution_count": 61,
   "metadata": {},
   "outputs": [],
   "source": [
    "vowels = ['a', 'e', 'i', 'o', 'u']"
   ]
  },
  {
   "cell_type": "code",
   "execution_count": 40,
   "metadata": {
    "scrolled": true
   },
   "outputs": [
    {
     "name": "stdout",
     "output_type": "stream",
     "text": [
      "caress\n",
      "poni\n",
      "ti\n",
      "caress\n",
      "cat\n"
     ]
    }
   ],
   "source": [
    "test1a = ['caresses', 'ponies', 'ties', 'caress', 'cats']\n",
    "for test in test1a:\n",
    "    print(step1a(test))"
   ]
  },
  {
   "cell_type": "code",
   "execution_count": 43,
   "metadata": {},
   "outputs": [],
   "source": [
    "def find(word):\n",
    "    groups = 0\n",
    "    flag = 1\n",
    "#   flag is 1 until a vowel is found\n",
    "    \n",
    "    vowel_found = 0\n",
    "    for index, letter in enumerate(word):\n",
    "        if letter in vowels:\n",
    "            flag = 0\n",
    "            vowel_found = 1\n",
    "        elif index !=0 and letter is 'y' and word[index-1] not in vowels:\n",
    "            flag = 0\n",
    "            vowel_found = 1\n",
    "        elif not flag:\n",
    "            if vowel_found:\n",
    "                groups +=1\n",
    "                vowel_found = 0\n",
    "    return groups"
   ]
  },
  {
   "cell_type": "code",
   "execution_count": 44,
   "metadata": {},
   "outputs": [
    {
     "name": "stdout",
     "output_type": "stream",
     "text": [
      "0\n",
      "0\n",
      "0\n",
      "0\n",
      "0\n",
      "1\n",
      "1\n",
      "1\n",
      "1\n",
      "2\n",
      "2\n",
      "2\n",
      "2\n"
     ]
    }
   ],
   "source": [
    "groups = ['tr', 'ee',  'tree', 'y',  'by', 'trouble', 'oats', 'trees', 'ivy', 'troubles', 'private', 'oaten', 'orrery']\n",
    "for test in groups:\n",
    "    print(find(test))"
   ]
  },
  {
   "cell_type": "code",
   "execution_count": 71,
   "metadata": {},
   "outputs": [
    {
     "data": {
      "text/plain": [
       "0"
      ]
     },
     "execution_count": 71,
     "metadata": {},
     "output_type": "execute_result"
    }
   ],
   "source": [
    "find('f')"
   ]
  },
  {
   "cell_type": "code",
   "execution_count": 216,
   "metadata": {},
   "outputs": [],
   "source": [
    "def vowel_before_suffix(word, suffix):\n",
    "    word = word[:-len(suffix)]    \n",
    "    for letter in word:\n",
    "        if letter in vowels:\n",
    "            return True\n",
    "    return False"
   ]
  },
  {
   "cell_type": "code",
   "execution_count": 217,
   "metadata": {},
   "outputs": [
    {
     "data": {
      "text/plain": [
       "True"
      ]
     },
     "execution_count": 217,
     "metadata": {},
     "output_type": "execute_result"
    }
   ],
   "source": [
    "vowel_before_suffix('saaaf', 'af')"
   ]
  },
  {
   "cell_type": "code",
   "execution_count": 218,
   "metadata": {},
   "outputs": [],
   "source": [
    "def double_letters(word):\n",
    "    if len(word) >= 2:\n",
    "        if word[-1] == word[-2]:\n",
    "            return True\n",
    "    return False"
   ]
  },
  {
   "cell_type": "code",
   "execution_count": 219,
   "metadata": {},
   "outputs": [
    {
     "data": {
      "text/plain": [
       "True"
      ]
     },
     "execution_count": 219,
     "metadata": {},
     "output_type": "execute_result"
    }
   ],
   "source": [
    "double_letters('afss')"
   ]
  },
  {
   "cell_type": "code",
   "execution_count": 220,
   "metadata": {},
   "outputs": [],
   "source": [
    "def cvc(word):\n",
    "#     *o here * is 0 or more due to fil(ing) case\n",
    "    bad_letters = ['w', 'x', 'y']\n",
    "    if len(word) >= 3:\n",
    "        if word[-1] in bad_letters:\n",
    "            return False\n",
    "        elif word[-1] not in vowels and word[-2] in vowels and word[-3] not in vowels:\n",
    "            return True\n",
    "    return False"
   ]
  },
  {
   "cell_type": "code",
   "execution_count": 60,
   "metadata": {},
   "outputs": [
    {
     "data": {
      "text/plain": [
       "False"
      ]
     },
     "execution_count": 60,
     "metadata": {},
     "output_type": "execute_result"
    }
   ],
   "source": [
    "cvc('aaiq')"
   ]
  },
  {
   "cell_type": "code",
   "execution_count": 221,
   "metadata": {},
   "outputs": [],
   "source": [
    "def step1b1(word):\n",
    "    bad_letters = ['l', 's', 'z']\n",
    "    suffixes = ['at', 'bl', 'iz']\n",
    "    nsuffixes = ['ate', 'ble', 'ize']\n",
    "    for index, suffix in enumerate(suffixes):\n",
    "        if word.endswith(suffix):\n",
    "            return word[:-len(suffix)] + nsuffixes[index]    \n",
    "    if double_letters(word) and word[-1] not in bad_letters:  \n",
    "        return word[:-1]\n",
    "    elif find(word) == 1 and cvc(word):\n",
    "        return word + 'e'\n",
    "    return word"
   ]
  },
  {
   "cell_type": "code",
   "execution_count": 222,
   "metadata": {},
   "outputs": [
    {
     "data": {
      "text/plain": [
       "'file'"
      ]
     },
     "execution_count": 222,
     "metadata": {},
     "output_type": "execute_result"
    }
   ],
   "source": [
    "step1b1('fil')"
   ]
  },
  {
   "cell_type": "code",
   "execution_count": 223,
   "metadata": {},
   "outputs": [],
   "source": [
    "def step1b(word):\n",
    "    if find(word[:-3]) > 0 and word.endswith('eed'):        \n",
    "        return word[:-len('eed')] + 'ee'\n",
    "    elif word.endswith('eed') and vowel_before_suffix(word, 'eed'):\n",
    "        return step1b1(word[:-len('ed')])\n",
    "    elif word.endswith('ing') and vowel_before_suffix(word, 'ing'):\n",
    "        return step1b1(word[:-len('ing')])\n",
    "    return word"
   ]
  },
  {
   "cell_type": "code",
   "execution_count": 226,
   "metadata": {},
   "outputs": [
    {
     "data": {
      "text/plain": [
       "'say'"
      ]
     },
     "execution_count": 226,
     "metadata": {},
     "output_type": "execute_result"
    }
   ],
   "source": [
    "step1b('say')"
   ]
  },
  {
   "cell_type": "code",
   "execution_count": 231,
   "metadata": {},
   "outputs": [],
   "source": [
    "def step1c(word):\n",
    "    if word.endswith('y'):\n",
    "        if vowel_before_suffix(word[:-1], 'y'):\n",
    "            return word[:-1] + 'i'\n",
    "    return word"
   ]
  },
  {
   "cell_type": "code",
   "execution_count": 232,
   "metadata": {},
   "outputs": [
    {
     "data": {
      "text/plain": [
       "'say'"
      ]
     },
     "execution_count": 232,
     "metadata": {},
     "output_type": "execute_result"
    }
   ],
   "source": [
    "step1c('say')"
   ]
  },
  {
   "cell_type": "code",
   "execution_count": 153,
   "metadata": {},
   "outputs": [],
   "source": [
    "def step2(word):\n",
    "    suffixes = ['ational', 'tional', 'enci', 'anci', 'izer', 'abli', 'alli', 'entli', 'eli', 'ousli', \n",
    "             'ization', 'ation', 'ator', 'alism', 'iveness', 'fulness', 'ousness', 'aliti', 'iviti', 'biliti']\n",
    "    nsuffixes = ['ate', 'tion', 'ence', 'ance', 'ize', 'able', 'al', 'ent', 'e', 'ous', 'ize', 'ate', 'ate', 'al',\n",
    "              'ive', 'ful', 'ous', 'al', 'ive', 'ble']    \n",
    "    for index, suffix in enumerate(suffixes):\n",
    "        if word.endswith(suffix):\n",
    "            if find(word[:-len(suffix)]) > 0:\n",
    "                return word[:-len(suffix)] + nsuffixes[index]\n",
    "    return word"
   ]
  },
  {
   "cell_type": "code",
   "execution_count": 227,
   "metadata": {},
   "outputs": [
    {
     "data": {
      "text/plain": [
       "'say'"
      ]
     },
     "execution_count": 227,
     "metadata": {},
     "output_type": "execute_result"
    }
   ],
   "source": [
    "step2('say')"
   ]
  },
  {
   "cell_type": "code",
   "execution_count": 157,
   "metadata": {},
   "outputs": [],
   "source": [
    "def step3(word):\n",
    "    suffixes = ['icate', 'ative', 'alize', 'iciti', 'ical', 'ful', 'ness']\n",
    "    nsuffixes = ['ic', '', 'al', 'ic', 'ic', '', '']    \n",
    "    for index, suffix in enumerate(suffixes):\n",
    "        if word.endswith(suffix):\n",
    "            if find(word[:-len(suffix)]) > 0:\n",
    "                return word[:-len(suffix)] + nsuffixes[index]\n",
    "    return word"
   ]
  },
  {
   "cell_type": "code",
   "execution_count": 164,
   "metadata": {},
   "outputs": [
    {
     "data": {
      "text/plain": [
       "'good'"
      ]
     },
     "execution_count": 164,
     "metadata": {},
     "output_type": "execute_result"
    }
   ],
   "source": [
    "step3('goodness')"
   ]
  },
  {
   "cell_type": "code",
   "execution_count": 170,
   "metadata": {},
   "outputs": [],
   "source": [
    "def step4(word):\n",
    "    suffixes = ['al', 'ance', 'ence', 'er', 'ic', 'able', 'ible', 'ant', 'ement', 'ment', 'ent', 'ou', \n",
    "               'ism', 'ate', 'iti', 'ous', 'ive', 'ize']        \n",
    "    for index, suffix in enumerate(suffixes):\n",
    "        if word.endswith(suffix):\n",
    "            if find(word[:-len(suffix)]) > 1:\n",
    "                return word[:-len(suffix)]\n",
    "    if word.endswith('ion'):\n",
    "            temp_word = word[:-len('ion')]\n",
    "            if find(word[:-len('ion')]) > 1 and temp_word[-1] == 's' or temp_word[-1] == 't':\n",
    "                return word[:-len('ion')]                    \n",
    "    return word"
   ]
  },
  {
   "cell_type": "code",
   "execution_count": 172,
   "metadata": {},
   "outputs": [
    {
     "data": {
      "text/plain": [
       "'adopqion'"
      ]
     },
     "execution_count": 172,
     "metadata": {},
     "output_type": "execute_result"
    }
   ],
   "source": [
    "step4('adopqion')"
   ]
  },
  {
   "cell_type": "code",
   "execution_count": 190,
   "metadata": {},
   "outputs": [],
   "source": [
    "def step5a(word):\n",
    "    if word.endswith('e'):\n",
    "        if find(word[:-len('e')]) > 1:        \n",
    "            return word[:-len('e')]\n",
    "        elif find(word[:-len('e')]) == 1 and cvc(word[:-len('e')]) is False:            \n",
    "            return word[:-len('e')]\n",
    "    return word"
   ]
  },
  {
   "cell_type": "code",
   "execution_count": 189,
   "metadata": {},
   "outputs": [
    {
     "data": {
      "text/plain": [
       "'ceasded'"
      ]
     },
     "execution_count": 189,
     "metadata": {},
     "output_type": "execute_result"
    }
   ],
   "source": [
    "step5a('ceasded')"
   ]
  },
  {
   "cell_type": "code",
   "execution_count": 191,
   "metadata": {},
   "outputs": [],
   "source": [
    "def step5b(word):\n",
    "    if find(word) > 1 and double_letters(word) and word.endswith('l'):\n",
    "        return word[:-1]\n",
    "    return word"
   ]
  },
  {
   "cell_type": "code",
   "execution_count": 193,
   "metadata": {},
   "outputs": [
    {
     "data": {
      "text/plain": [
       "'roll'"
      ]
     },
     "execution_count": 193,
     "metadata": {},
     "output_type": "execute_result"
    }
   ],
   "source": [
    "step5b('roll')"
   ]
  },
  {
   "cell_type": "code",
   "execution_count": 205,
   "metadata": {},
   "outputs": [],
   "source": [
    "def process(word):\n",
    "    word = step1a(word)\n",
    "    print(word)\n",
    "    word = step1b(word)\n",
    "    print(word)\n",
    "    word = step1c(word)\n",
    "    print(word)\n",
    "    word = step2(word)\n",
    "    print(word)\n",
    "    word = step3(word)\n",
    "    print(word)\n",
    "    word = step4(word)\n",
    "    print(word)\n",
    "    word = step5a(word)\n",
    "    print(word)\n",
    "    word = step5b(word)\n",
    "    print(word)\n",
    "    return word"
   ]
  },
  {
   "cell_type": "code",
   "execution_count": 237,
   "metadata": {},
   "outputs": [
    {
     "name": "stdout",
     "output_type": "stream",
     "text": [
      "funnier\n",
      "funnier\n",
      "funnier\n",
      "funnier\n",
      "funnier\n",
      "funnier\n",
      "funnier\n",
      "funnier\n",
      "than\n",
      "than\n",
      "than\n",
      "than\n",
      "than\n",
      "than\n",
      "than\n",
      "than\n",
      "bummer\n",
      "bummer\n",
      "bummer\n",
      "bummer\n",
      "bummer\n",
      "bummer\n",
      "bummer\n",
      "bummer\n",
      "say\n",
      "say\n",
      "say\n",
      "say\n",
      "say\n",
      "say\n",
      "say\n",
      "say\n",
      "the\n",
      "the\n",
      "the\n",
      "the\n",
      "the\n",
      "the\n",
      "the\n",
      "the\n",
      "sushi\n",
      "sushi\n",
      "sushi\n",
      "sushi\n",
      "sushi\n",
      "sushi\n",
      "sushi\n",
      "sushi\n",
      "loving\n",
      "love\n",
      "love\n",
      "love\n",
      "love\n",
      "love\n",
      "love\n",
      "love\n",
      "computer\n",
      "computer\n",
      "computer\n",
      "computer\n",
      "computer\n",
      "comput\n",
      "comput\n",
      "comput\n",
      "scientist\n",
      "scientist\n",
      "scientist\n",
      "scientist\n",
      "scientist\n",
      "scientist\n",
      "scientist\n",
      "scientist\n"
     ]
    }
   ],
   "source": [
    "sent = 'is funnier than a bummer says the sushi loving computer scientist'\n",
    "sent  = sent.lower()\n",
    "sent = sent.split(' ')\n",
    "for word in sent:\n",
    "#     print(word)\n",
    "    if len(word) > 2:\n",
    "        process(word)"
   ]
  },
  {
   "cell_type": "code",
   "execution_count": 235,
   "metadata": {},
   "outputs": [
    {
     "name": "stdout",
     "output_type": "stream",
     "text": [
      "dfa aa\n"
     ]
    }
   ],
   "source": [
    "sent = 'dfa AA'\n",
    "print(sent.lower())"
   ]
  }
 ],
 "metadata": {
  "kernelspec": {
   "display_name": "Python 3",
   "language": "python",
   "name": "python3"
  },
  "language_info": {
   "codemirror_mode": {
    "name": "ipython",
    "version": 3
   },
   "file_extension": ".py",
   "mimetype": "text/x-python",
   "name": "python",
   "nbconvert_exporter": "python",
   "pygments_lexer": "ipython3",
   "version": "3.7.3"
  }
 },
 "nbformat": 4,
 "nbformat_minor": 2
}
